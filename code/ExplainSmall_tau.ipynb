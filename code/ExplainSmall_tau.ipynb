{
 "cells": [
  {
   "cell_type": "code",
   "execution_count": null,
   "metadata": {},
   "outputs": [],
   "source": [
    "import os\n",
    "import numpy as np\n",
    "from OptStab import beta\n",
    "from scipy.interpolate import interp1d\n",
    "\n",
    "VERSION = 1\n",
    "\n",
    "OutDir = os.path.join(os.path.pardir,os.path.pardir,'data','results')\n",
    "\n",
    "with np.load(os.path.join(OutDir,'SearchResults_v'+str(VERSION)+'.npz')) as X:\n",
    "    OptCyc = X['OptCyc']\n",
    "    OptSS = X['OptSS']"
   ]
  },
  {
   "cell_type": "code",
   "execution_count": null,
   "metadata": {},
   "outputs": [],
   "source": [
    "def GetComponents(MODE):\n",
    "\n",
    "    with np.load(os.path.join(OutDir,'Unpack_v'+str(VERSION)+'_param_' + MODE +'_mode_fig.npz')) as X:\n",
    "        ExpectedMarginalWelfare = X['ExpectedMarginalWelfare']*(1-beta)\n",
    "        Cov = X['Cov']*(1-beta)\n",
    "        EdwEdx = X['EdWdxEdxdparam']*(1-beta)\n",
    "        paramgrid = X['paramgrid'][:-1]\n",
    "        std_dWdx = X['std_dWdx'] *(1-beta)\n",
    "        std_dxdparam = X['std_dxdparam'] *(1-beta)\n",
    "\n",
    "    Incentives = -ExpectedMarginalWelfare[:,1]\n",
    "    \n",
    "    return Incentives, std_dxdparam, paramgrid, Cov, std_dWdx\n",
    "    \n",
    "def GetRatio(MODE):\n",
    "    \n",
    "    Incentives, std_dxdparam, paramgrid, Cov, std_dWdx = GetComponents(MODE)\n",
    "    \n",
    "    Ratio = Cov[:,2:].sum(axis=1)/Incentives\n",
    "\n",
    "    #interpolate\n",
    "    if MODE == 'b':\n",
    "        parind = 0\n",
    "    else:\n",
    "        parind = 1\n",
    "\n",
    "    InterpolatedRatio = interp1d(paramgrid,Ratio)(OptCyc[parind])\n",
    "\n",
    "    return InterpolatedRatio"
   ]
  },
  {
   "cell_type": "code",
   "execution_count": null,
   "metadata": {},
   "outputs": [],
   "source": [
    "print('Std dx / d tau relateive to incentives term = {0} '.format(GetRatio('tau')))\n",
    "print('Std dx / d b relateive to incentives term = {0}'.format(GetRatio('b')))"
   ]
  },
  {
   "cell_type": "code",
   "execution_count": null,
   "metadata": {},
   "outputs": [],
   "source": [
    "Incentives, std_dxdparam, paramgrid, Cov, std_dWdx = GetComponents('tau')\n",
    "Cov[:,2:].sum(axis=1)"
   ]
  },
  {
   "cell_type": "code",
   "execution_count": null,
   "metadata": {},
   "outputs": [],
   "source": []
  }
 ],
 "metadata": {
  "kernelspec": {
   "display_name": "Python 2",
   "language": "python",
   "name": "python2"
  },
  "language_info": {
   "codemirror_mode": {
    "name": "ipython",
    "version": 2
   },
   "file_extension": ".py",
   "mimetype": "text/x-python",
   "name": "python",
   "nbconvert_exporter": "python",
   "pygments_lexer": "ipython2",
   "version": "2.7.15"
  }
 },
 "nbformat": 4,
 "nbformat_minor": 2
}
