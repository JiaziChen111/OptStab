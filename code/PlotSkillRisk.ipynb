{
 "cells": [
  {
   "cell_type": "code",
   "execution_count": null,
   "metadata": {
    "collapsed": false
   },
   "outputs": [],
   "source": [
    "%matplotlib inline\n",
    "import os\n",
    "from OptStab import *\n",
    "\n",
    "from os.path import expanduser\n",
    "home = expanduser(\"~\")\n",
    "FIGURE_DIR = os.path.join(home,'Scratch','OptStabFigures')"
   ]
  },
  {
   "cell_type": "code",
   "execution_count": null,
   "metadata": {
    "collapsed": true
   },
   "outputs": [],
   "source": [
    "def MakeEmptyFig():\n",
    "    fig = plt.figure()\n",
    "    ax = plt.subplot(111)\n",
    "    # ax.spines[\"top\"].set_visible(False)    \n",
    "    # ax.spines[\"bottom\"].set_visible(False)    \n",
    "    # ax.spines[\"right\"].set_visible(False)    \n",
    "    # ax.spines[\"left\"].set_visible(False)\n",
    "\n",
    "    # Ensure that the axis ticks only show up on the bottom and left of the plot.    \n",
    "    # Ticks on the right and top of the plot are generally unnecessary chartjunk.    \n",
    "    ax.get_xaxis().tick_bottom()    \n",
    "    ax.get_yaxis().tick_left() \n",
    "    return fig"
   ]
  },
  {
   "cell_type": "code",
   "execution_count": null,
   "metadata": {
    "collapsed": true
   },
   "outputs": [],
   "source": [
    "grid = np.linspace(-0.7,0.7,300)\n",
    "\n",
    "import scipy.stats as ss\n",
    "\n",
    "def GetDens(u):\n",
    "    x = np.polyval(IP_u2x, u - ucalib)\n",
    "    means = IncProc.__get_MU__(x)[np.cumsum(IncProc.neps)-1].flatten()\n",
    "    dists = [ss.norm(loc = means[i], scale = IncProc.sigma[i][0]) for i in range(len(means))]\n",
    "\n",
    "    def Dens(eps):\n",
    "        d = 0.0\n",
    "        for i in range(len(IncProc.p)):\n",
    "            d += IncProc.p[i][0] * dists[i].pdf(eps)\n",
    "        return d\n",
    "\n",
    "    return map(Dens,grid)"
   ]
  },
  {
   "cell_type": "code",
   "execution_count": null,
   "metadata": {
    "collapsed": false
   },
   "outputs": [],
   "source": [
    "fig = MakeEmptyFig()\n",
    "plt.plot(grid,GetDens(ucalib),'k')\n",
    "plt.ylabel('density',fontsize = 14)\n",
    "plt.xlabel(r'$\\epsilon$',fontsize = 16)\n",
    "fig.savefig(os.path.join(FIGURE_DIR,'EpsilonDensity1.png'),bbox_inches = 'tight')"
   ]
  },
  {
   "cell_type": "code",
   "execution_count": null,
   "metadata": {
    "collapsed": false
   },
   "outputs": [],
   "source": [
    "fig = MakeEmptyFig()\n",
    "plt.plot(grid,np.log(GetDens(ucalib)),'k')\n",
    "plt.plot(grid,np.log(GetDens(ucalib+0.01)),'k--')\n",
    "plt.ylim([-10,4])\n",
    "plt.ylabel('log density',fontsize = 14)\n",
    "plt.xlabel(r'$\\epsilon$',fontsize = 16)\n",
    "plt.legend(['u = {0}%'.format(round(100*ucalib,1)),'u = {0}%'.format(round(100*(ucalib+0.01),1))])\n",
    "fig.savefig(os.path.join(FIGURE_DIR,'EpsilonDensity2.png'),bbox_inches = 'tight')"
   ]
  },
  {
   "cell_type": "code",
   "execution_count": null,
   "metadata": {
    "collapsed": false
   },
   "outputs": [],
   "source": [
    "tau = 0.26\n",
    "\n",
    "umin = 0.04\n",
    "umax = 0.10\n",
    "ugrid = np.linspace(umin,umax,100)\n",
    "\n",
    "W = []\n",
    "for u in ugrid:\n",
    "    Moms = IncProc.get_Moments(u,ucalib,tau)\n",
    "    W.append(beta/(1-beta)*((1-tau)*Moms[1] - np.log(Moms[0])))\n",
    "\n",
    "\n",
    "fig = MakeEmptyFig()\n",
    "plt.plot(ugrid,W,'k')\n",
    "plt.xlabel('unemployment')\n",
    "plt.ylabel('welfare loss from skill risk')\n",
    "plt.text(0.08,W[40],r'$\\tau$ = {0}'.format(tau))\n",
    "fig.savefig(os.path.join(FIGURE_DIR,'SkillWelfare.png'),bbox_inches = 'tight')"
   ]
  }
 ],
 "metadata": {
  "kernelspec": {
   "display_name": "Python 2",
   "language": "python",
   "name": "python2"
  },
  "language_info": {
   "codemirror_mode": {
    "name": "ipython",
    "version": 2
   },
   "file_extension": ".py",
   "mimetype": "text/x-python",
   "name": "python",
   "nbconvert_exporter": "python",
   "pygments_lexer": "ipython2",
   "version": "2.7.15"
  }
 },
 "nbformat": 4,
 "nbformat_minor": 2
}
