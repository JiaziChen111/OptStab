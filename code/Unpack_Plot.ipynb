{
 "cells": [
  {
   "cell_type": "markdown",
   "metadata": {},
   "source": [
    "# OptStab Plots of Unpacking"
   ]
  },
  {
   "cell_type": "code",
   "execution_count": null,
   "metadata": {
    "collapsed": false
   },
   "outputs": [],
   "source": [
    "import os\n",
    "import numpy as np\n",
    "import matplotlib.pyplot as plt\n",
    "from OptStab import beta\n",
    "from scipy.interpolate import interp1d\n",
    "\n",
    "%matplotlib inline\n",
    "VERSION = 1\n",
    "\n",
    "from os.path import expanduser\n",
    "home = expanduser(\"~\")\n",
    "FIGURE_DIR = os.path.join(home,'Scratch','OptStabFigures')\n",
    "\n",
    "PRESENTATION = False\n",
    "MODE = 'b'\n",
    "OutDir = os.path.join(os.path.pardir,os.path.pardir,'data','results')\n",
    "\n",
    "# Scale the RGB values to the [0, 1] range, which is the format matplotlib accepts.    \n",
    "def ColorScale(colors):\n",
    "    for (i,(r, g, b)) in enumerate(colors):\n",
    "        colors[i] = (r / 255., g / 255., b / 255.)\n",
    "        \n",
    "    return colors\n",
    "\n",
    "\n",
    "if PRESENTATION:\n",
    "    mycolors = ColorScale([(51,102,204), (153,0,0), (0,153,0), (153,0,0), (51,102,204)]  )\n",
    "    mylinestyles = ['-','-','-','--','--']\n",
    "else:\n",
    "    mycolors = ColorScale([3*(0,),3*(0,),3*(0,),3*(170,),3*(170,) ])\n",
    "    mylinestyles = ['-','--','-.','-','--']\n",
    "\n",
    "    \n",
    "def FormatFig(hndls, colors = mycolors, linestyles = mylinestyles):\n",
    "    for (i,h) in enumerate(hndls):\n",
    "        h.set_linestyle(linestyles[i])\n",
    "        h.set_color(colors[i])\n",
    "        \n",
    "if MODE == 'b':\n",
    "    xlab = r'UI generosity ($b$)'\n",
    "else:\n",
    "    xlab = r'Tax progressivity ($\\tau$)'    "
   ]
  },
  {
   "cell_type": "code",
   "execution_count": null,
   "metadata": {
    "collapsed": false
   },
   "outputs": [],
   "source": [
    "with np.load(os.path.join(OutDir,'Unpack_v'+str(VERSION)+'_param_' + MODE +'_mode_fig.npz')) as X:\n",
    "    ExpectedMarginalWelfare = X['ExpectedMarginalWelfare']\n",
    "    Cov = X['Cov']\n",
    "    EdwEdx = X['EdWdxEdxdparam']\n",
    "    paramgrid = X['paramgrid'][:-1]\n",
    "    \n",
    "\n",
    "# check if the figure directory exists and create it if it doesn't\n",
    "if not os.path.isdir(FIGURE_DIR):\n",
    "    os.makedirs(FIGURE_DIR)\n",
    "    \n",
    "if MODE == 'b':\n",
    "    parind = 0\n",
    "else:\n",
    "    parind = 1\n",
    "        \n",
    "# convert to marginal consumption equivalents        \n",
    "ExpectedMarginalWelfare = (1-beta) * ExpectedMarginalWelfare\n",
    "#--debug--\n",
    "from OptStab import delta\n",
    "# ExpectedMarginalWelfare[:,0] *= (1-beta*(1-delta))/(1-beta)\n",
    "#--debug--\n",
    "Cov = (1-beta) * Cov\n",
    "EdwEdx = (1-beta) * EdwEdx"
   ]
  },
  {
   "cell_type": "code",
   "execution_count": null,
   "metadata": {
    "collapsed": false
   },
   "outputs": [],
   "source": [
    "if PRESENTATION:\n",
    "    fig = plt.figure(figsize=(8, 6))\n",
    "else:\n",
    "    fig = plt.figure()\n",
    "    \n",
    "ax = plt.subplot(111)\n",
    "# ax.spines[\"top\"].set_visible(False)    \n",
    "# ax.spines[\"bottom\"].set_visible(False)    \n",
    "# ax.spines[\"right\"].set_visible(False)    \n",
    "# ax.spines[\"left\"].set_visible(False)\n",
    "\n",
    "# Ensure that the axis ticks only show up on the bottom and left of the plot.    \n",
    "# Ticks on the right and top of the plot are generally unnecessary chartjunk.    \n",
    "ax.get_xaxis().tick_bottom()    \n",
    "ax.get_yaxis().tick_left()  \n",
    "\n",
    "# Make sure your axis ticks are large enough to be easily read.    \n",
    "# You don't want your viewers squinting to read your plot.    \n",
    "# plt.xticks(np.linspace(b_grid.min(), b_grid.max(), 8), [str(x)  for x in np.linspace(b_grid.min(), b_grid.max(), 8)], fontsize=14)    \n",
    "\n",
    "\n",
    "hndls = plt.plot(paramgrid,np.hstack((ExpectedMarginalWelfare[:,[0,1]],\n",
    "                                      ExpectedMarginalWelfare[:,2:].sum(axis=1)[np.newaxis].T - Cov[:,2:].sum(axis=1)[np.newaxis].T,\n",
    "                                     Cov[:,2:].sum(axis=1)[np.newaxis].T)))\n",
    "\n",
    "\n",
    "plt.xlabel(xlab,fontsize =14,family='serif')\n",
    "plt.ylabel('Marginal welfare gain',fontsize =14,family='serif')\n",
    "\n",
    "if PRESENTATION:\n",
    "    colors = ColorScale([(51,102,204), (153,0,0), (0,153,0), (0,153,0)]  )\n",
    "    linestyles = ['-','-','-','--']\n",
    "    FormatFig(hndls, colors = colors, linestyles = linestyles)\n",
    "else:\n",
    "    FormatFig(hndls)\n",
    "    \n",
    "L = plt.legend(hndls,['Insurance', 'Incentives', 'Macro stab. E x E','Macro stab. Covariance'],fontsize = 14,bbox_to_anchor=(1.04,0.5), loc=\"center left\")\n",
    "plt.setp(L.texts, family='serif')\n",
    "plt.ylim([-0.05,0.05])\n",
    "\n",
    "    \n",
    "fig.savefig(os.path.join(FIGURE_DIR,'UnpackFourTerms_'+MODE+'.png'),bbox_inches = 'tight')\n",
    "\n"
   ]
  },
  {
   "cell_type": "code",
   "execution_count": null,
   "metadata": {
    "collapsed": false
   },
   "outputs": [],
   "source": [
    "if PRESENTATION:\n",
    "    fig = plt.figure(figsize=(8, 6))\n",
    "else:\n",
    "    fig = plt.figure()\n",
    "    \n",
    "ax = plt.subplot(111)\n",
    "hndls = plt.plot(paramgrid,np.hstack((ExpectedMarginalWelfare[:,2:5],\n",
    "                           ExpectedMarginalWelfare[:,5:].sum(axis=1)[np.newaxis].T)))\n",
    "\n",
    "if PRESENTATION:\n",
    "    colors = [(51,102,204), (153,0,0), (0,153,0), (0,0,0)]  \n",
    "    for (i,(r, g, b)) in enumerate(colors):\n",
    "        colors[i] = (r / 255., g / 255., b / 255.)\n",
    "    linestyles = ['-','-','-','-']\n",
    "    FormatFig(hndls,colors = colors, linestyles = linestyles)\n",
    "else:\n",
    "    FormatFig(hndls)\n",
    "\n",
    "L = plt.legend(hndls,['Labor wedge','Price dispersion', 'Extensive margin', 'Idio. risk'],fontsize = 14,bbox_to_anchor=(1.04,0.5), loc=\"center left\")\n",
    "plt.setp(L.texts, family='serif')\n",
    "plt.xlabel(xlab,fontsize =14,family='serif')\n",
    "plt.ylabel('Marginal welfare gain',fontsize =14,family='serif')\n",
    "fig.savefig(os.path.join(FIGURE_DIR,'UnpackMacro_'+MODE+'.png'),bbox_inches = 'tight')"
   ]
  },
  {
   "cell_type": "code",
   "execution_count": null,
   "metadata": {},
   "outputs": [],
   "source": [
    "# Plot more detail for review\n",
    "hndls = plt.plot(paramgrid,ExpectedMarginalWelfare[:,5:])\n",
    "L = plt.legend(hndls,['Unemployment risk', 'Skill risk'],fontsize = 14)"
   ]
  },
  {
   "cell_type": "code",
   "execution_count": null,
   "metadata": {},
   "outputs": [],
   "source": [
    "plt.plot(paramgrid,ExpectedMarginalWelfare.sum(axis=1))"
   ]
  },
  {
   "cell_type": "code",
   "execution_count": null,
   "metadata": {},
   "outputs": [],
   "source": [
    "interp1d(ExpectedMarginalWelfare.sum(axis=1),paramgrid)(0.0)"
   ]
  },
  {
   "cell_type": "code",
   "execution_count": null,
   "metadata": {},
   "outputs": [],
   "source": [
    "# Ratio of cov to incentives term\n",
    "plt.plot(paramgrid,Cov[:,2:].sum(axis=1)[np.newaxis].T/ np.abs(ExpectedMarginalWelfare[:,[1]] ))\n",
    "# plt.ylim([1.5,2])\n",
    "# plt.xlim([0.82,0.828])"
   ]
  },
  {
   "cell_type": "code",
   "execution_count": null,
   "metadata": {},
   "outputs": [],
   "source": []
  },
  {
   "cell_type": "code",
   "execution_count": null,
   "metadata": {},
   "outputs": [],
   "source": []
  }
 ],
 "metadata": {
  "kernelspec": {
   "display_name": "Python 2",
   "language": "python",
   "name": "python2"
  },
  "language_info": {
   "codemirror_mode": {
    "name": "ipython",
    "version": 2
   },
   "file_extension": ".py",
   "mimetype": "text/x-python",
   "name": "python",
   "nbconvert_exporter": "python",
   "pygments_lexer": "ipython2",
   "version": "2.7.18"
  }
 },
 "nbformat": 4,
 "nbformat_minor": 2
}
