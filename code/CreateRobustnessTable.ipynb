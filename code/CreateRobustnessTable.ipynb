{
 "cells": [
  {
   "cell_type": "code",
   "execution_count": 1,
   "metadata": {
    "collapsed": false
   },
   "outputs": [],
   "source": [
    "# Setup\n",
    "import jinja2\n",
    "import numpy as np\n",
    "import os\n",
    "\n",
    "OutDir = os.path.join(os.path.pardir,os.path.pardir,'data','results')\n",
    "\n",
    "\n",
    "def FormatNumber(x,precision):\n",
    "    if type(x) == np.ndarray:\n",
    "        return np.array([FormatNumber(xi) for xi in x])\n",
    "    else:       \n",
    "        if x >= 0:\n",
    "            formatstring = '{x:.' + str(precision) + 'f}'\n",
    "            return formatstring.format(x = x)\n",
    "        else:\n",
    "            return '--'\n",
    "\n",
    "\n",
    "env = jinja2.Environment(\n",
    "        \"%<\", \">%\",\n",
    "        \"<<\", \">>\",\n",
    "        \"[§\", \"§]\",\n",
    "        loader=jinja2.FileSystemLoader(\".\")\n",
    "        )\n",
    "\n",
    "\n",
    "RowTemplate =   '(<<rownum>>) & <<rowname>>  & <<bwo>> & <<bw>> &  & <<tauwo>> & <<tauw>> & & <<rrwo>> & <<rrw>> \\\\\\\\'\n",
    "\n",
    "template = env.from_string(RowTemplate)\n",
    "\n",
    "def RepRate(b,tau):\n",
    "    return 2 * b **(1.0/(1-tau)) -1\n",
    "\n",
    "def GetRow(Version, rownum,rowname):\n",
    "    \n",
    "    with np.load(os.path.join(OutDir,'SearchResults_v'+str(Version)+'.npz')) as X:\n",
    "        OptCyc = X['OptCyc']\n",
    "        OptSS = X['OptSS']\n",
    "    \n",
    "    return template.render(rownum = rownum,\n",
    "                    rowname = rowname,\n",
    "                    bwo = FormatNumber(OptSS[0],3),\n",
    "                    bw  = FormatNumber(OptCyc[0],3),\n",
    "                    tauwo = FormatNumber(OptSS[1],3),\n",
    "                    tauw  = FormatNumber(OptCyc[1],3),\n",
    "                    rrwo = FormatNumber(RepRate(OptSS[0],OptSS[1]),2),\n",
    "                    rrw  = FormatNumber(RepRate(OptCyc[0],OptCyc[1]),2)\n",
    "                          )\n",
    "                \n",
    "\n"
   ]
  },
  {
   "cell_type": "code",
   "execution_count": 2,
   "metadata": {
    "collapsed": false
   },
   "outputs": [],
   "source": [
    "fname = os.path.join(OutDir,'RobustnessTable.tex')\n",
    "f = open(fname, \"w\")\n",
    "\n",
    "f.write(GetRow(1,'i','Baseline'))\n",
    "f.write(os.linesep)\n",
    "f.write(GetRow(8,'ii','Flexible prices'))\n",
    "f.write(os.linesep)\n",
    "f.write(GetRow(3,'iii','Aggressive monetary policy'))\n",
    "f.write(os.linesep)\n",
    "f.write(GetRow(10,'iv','Acyclical purchases'))\n",
    "f.write(os.linesep)\n",
    "f.write(GetRow(12,'v','No $Q^u$'))\n",
    "f.write(os.linesep)\n",
    "f.write(GetRow(16,'vi','No skill risk'))                     \n",
    "f.write(os.linesep)\n",
    "\n",
    "\n",
    "                     \n",
    "f.close()"
   ]
  },
  {
   "cell_type": "code",
   "execution_count": null,
   "metadata": {
    "collapsed": true
   },
   "outputs": [],
   "source": []
  }
 ],
 "metadata": {
  "kernelspec": {
   "display_name": "Python 2",
   "language": "python",
   "name": "python2"
  },
  "language_info": {
   "codemirror_mode": {
    "name": "ipython",
    "version": 2
   },
   "file_extension": ".py",
   "mimetype": "text/x-python",
   "name": "python",
   "nbconvert_exporter": "python",
   "pygments_lexer": "ipython2",
   "version": "2.7.16"
  }
 },
 "nbformat": 4,
 "nbformat_minor": 2
}
