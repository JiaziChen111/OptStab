{
 "cells": [
  {
   "cell_type": "markdown",
   "metadata": {},
   "source": [
    "# OptStab Plots of Search Results"
   ]
  },
  {
   "cell_type": "code",
   "execution_count": 111,
   "metadata": {
    "collapsed": false
   },
   "outputs": [],
   "source": [
    "import os\n",
    "import numpy as np"
   ]
  },
  {
   "cell_type": "code",
   "execution_count": 112,
   "metadata": {
    "collapsed": true
   },
   "outputs": [],
   "source": [
    "with np.load(os.path.join(OutDir,'SearchResults_v1_CyclicalPolicy_2.npz')) as X:\n",
    "    OptCyc = X['OptCyc']\n",
    "    OptSS = X['OptSS']\n"
   ]
  },
  {
   "cell_type": "markdown",
   "metadata": {},
   "source": [
    "We can convert b into pre-tax replacement rates based on a two-worker household.  This conversion involves for solving for x in $$(x/2 + 1/2)^{1-\\tau} = b.$$  \n",
    "Which gives us\n",
    "$$x = 2b^{1/(1-\\tau)} - 1.$$  "
   ]
  },
  {
   "cell_type": "code",
   "execution_count": 113,
   "metadata": {
    "collapsed": false
   },
   "outputs": [
    {
     "name": "stdout",
     "output_type": "stream",
     "text": [
      "-----optimal b-----\n",
      "with cycles = 0.791\n",
      "without cycles = 0.746\n",
      "\n",
      "-----optimal tau----\n",
      "with cycles = 0.235\n",
      "without cycles = 0.248\n",
      "\n",
      "pre-tax UI replacement rates with a two-earner household\n",
      "with cycles = 0.47\n",
      "without cycles = 0.35\n"
     ]
    }
   ],
   "source": [
    "def RepRate(b,tau):\n",
    "    return 2 * b **(1.0/(1-tau)) -1\n",
    "\n",
    "print '-----optimal b-----'\n",
    "print 'with cycles = {0:.{1}f}'.format(OptCyc[0],3)\n",
    "print 'without cycles = {0:.{1}f}'.format(OptSS[0],3)\n",
    "print('')\n",
    "\n",
    "print '-----optimal tau----'\n",
    "print 'with cycles = {0:.{1}f}'.format(OptCyc[1],3)\n",
    "print 'without cycles = {0:.{1}f}'.format(OptSS[1],3)\n",
    "print('')\n",
    "\n",
    "print 'pre-tax UI replacement rates with a two-earner household'\n",
    "print 'with cycles = {0:.{1}f}'.format(RepRate(OptCyc[0],OptCyc[1]),2)\n",
    "print 'without cycles = {0:.{1}f}'.format(RepRate(OptSS[0],OptSS[1]),2)\n"
   ]
  },
  {
   "cell_type": "code",
   "execution_count": null,
   "metadata": {},
   "outputs": [],
   "source": []
  }
 ],
 "metadata": {
  "kernelspec": {
   "display_name": "Python 2",
   "language": "python",
   "name": "python2"
  },
  "language_info": {
   "codemirror_mode": {
    "name": "ipython",
    "version": 2
   },
   "file_extension": ".py",
   "mimetype": "text/x-python",
   "name": "python",
   "nbconvert_exporter": "python",
   "pygments_lexer": "ipython2",
   "version": "2.7.15"
  }
 },
 "nbformat": 4,
 "nbformat_minor": 2
}
