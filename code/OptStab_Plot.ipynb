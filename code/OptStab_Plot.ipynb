{
 "cells": [
  {
   "cell_type": "markdown",
   "metadata": {},
   "source": [
    "# OptStab Plots of Search Results"
   ]
  },
  {
   "cell_type": "code",
   "execution_count": 3,
   "metadata": {
    "collapsed": false
   },
   "outputs": [
    {
     "ename": "NameError",
     "evalue": "name 'ModuleNotFoundError' is not defined",
     "output_type": "error",
     "traceback": [
      "\u001b[0;31m---------------------------------------------------------------------------\u001b[0m",
      "\u001b[0;31mNameError\u001b[0m                                 Traceback (most recent call last)",
      "\u001b[0;32m<ipython-input-3-8c0b755a4ccf>\u001b[0m in \u001b[0;36m<module>\u001b[0;34m()\u001b[0m\n\u001b[1;32m      2\u001b[0m \u001b[0;32mimport\u001b[0m \u001b[0mnumpy\u001b[0m \u001b[0;32mas\u001b[0m \u001b[0mnp\u001b[0m\u001b[0;34m\u001b[0m\u001b[0m\n\u001b[1;32m      3\u001b[0m \u001b[0;32mimport\u001b[0m \u001b[0mmatplotlib\u001b[0m\u001b[0;34m.\u001b[0m\u001b[0mpyplot\u001b[0m \u001b[0;32mas\u001b[0m \u001b[0mplt\u001b[0m\u001b[0;34m\u001b[0m\u001b[0m\n\u001b[0;32m----> 4\u001b[0;31m \u001b[0;32mfrom\u001b[0m \u001b[0mOptStab\u001b[0m \u001b[0;32mimport\u001b[0m \u001b[0mM\u001b[0m\u001b[0;34m,\u001b[0m \u001b[0mbeta\u001b[0m\u001b[0;34m,\u001b[0m \u001b[0miV\u001b[0m\u001b[0;34m,\u001b[0m \u001b[0miV_a\u001b[0m\u001b[0;34m,\u001b[0m \u001b[0miV_b\u001b[0m\u001b[0;34m,\u001b[0m \u001b[0miV_c\u001b[0m\u001b[0;34m,\u001b[0m \u001b[0miY\u001b[0m\u001b[0;34m\u001b[0m\u001b[0m\n\u001b[0m\u001b[1;32m      5\u001b[0m \u001b[0;32mfrom\u001b[0m \u001b[0mscipy\u001b[0m\u001b[0;34m.\u001b[0m\u001b[0minterpolate\u001b[0m \u001b[0;32mimport\u001b[0m \u001b[0minterp1d\u001b[0m\u001b[0;34m\u001b[0m\u001b[0m\n",
      "\u001b[0;32m/Users/iragm01/Scratch/OptStab/global/OptStab.py\u001b[0m in \u001b[0;36m<module>\u001b[0;34m()\u001b[0m\n\u001b[0;32m----> 1\u001b[0;31m \u001b[0;32mfrom\u001b[0m \u001b[0mOptStab_Baseline\u001b[0m \u001b[0;32mimport\u001b[0m \u001b[0;34m*\u001b[0m\u001b[0;34m\u001b[0m\u001b[0m\n\u001b[0m",
      "\u001b[0;32m/Users/iragm01/Scratch/OptStab/global/OptStab_Baseline.py\u001b[0m in \u001b[0;36m<module>\u001b[0;34m()\u001b[0m\n\u001b[1;32m     16\u001b[0m     \u001b[0;32mfrom\u001b[0m \u001b[0mOptStab_IncomeProcess\u001b[0m \u001b[0;32mimport\u001b[0m \u001b[0mIncomeProcess\u001b[0m\u001b[0;34m\u001b[0m\u001b[0m\n\u001b[1;32m     17\u001b[0m     \u001b[0;32mfrom\u001b[0m \u001b[0mArguments\u001b[0m \u001b[0;32mimport\u001b[0m \u001b[0mCLArgs\u001b[0m\u001b[0;34m\u001b[0m\u001b[0m\n\u001b[0;32m---> 18\u001b[0;31m \u001b[0;32mexcept\u001b[0m \u001b[0mModuleNotFoundError\u001b[0m\u001b[0;34m:\u001b[0m\u001b[0;34m\u001b[0m\u001b[0m\n\u001b[0m\u001b[1;32m     19\u001b[0m     \u001b[0;32mprint\u001b[0m\u001b[0;34m(\u001b[0m\u001b[0;34m'\\n\\nAre you using python 3 instead of 2?\\n\\n'\u001b[0m\u001b[0;34m)\u001b[0m\u001b[0;34m\u001b[0m\u001b[0m\n\u001b[1;32m     20\u001b[0m     \u001b[0;32mraise\u001b[0m\u001b[0;34m\u001b[0m\u001b[0m\n",
      "\u001b[0;31mNameError\u001b[0m: name 'ModuleNotFoundError' is not defined"
     ]
    }
   ],
   "source": [
    "import os\n",
    "import numpy as np\n",
    "import matplotlib.pyplot as plt\n",
    "from OptStab import M, beta, iV, iV_a, iV_b, iV_c, iY\n",
    "from scipy.interpolate import interp1d"
   ]
  },
  {
   "cell_type": "code",
   "execution_count": null,
   "metadata": {
    "collapsed": true
   },
   "outputs": [],
   "source": [
    "VERSION = 1\n",
    "from os.path import expanduser\n",
    "home = expanduser(\"~\")\n",
    "FIGURE_DIR = os.path.join(home,'Scratch','OptStabFigures')\n",
    "PRESENTATION = False\n",
    "OutDir = os.path.join(os.path.pardir,os.path.pardir,'data','results')"
   ]
  },
  {
   "cell_type": "code",
   "execution_count": null,
   "metadata": {
    "collapsed": true
   },
   "outputs": [],
   "source": [
    "%matplotlib inline"
   ]
  },
  {
   "cell_type": "code",
   "execution_count": null,
   "metadata": {
    "collapsed": true
   },
   "outputs": [],
   "source": [
    "if PRESENTATION:\n",
    "    mycolors = [(51,102,204), (153,0,0)]  \n",
    "else:\n",
    "    mycolors = [3*(0,), 3*(170,)]  \n",
    "\n",
    "# Scale the RGB values to the [0, 1] range, which is the format matplotlib accepts.    \n",
    "for i in range(len(mycolors)):    \n",
    "    r, g, b = mycolors[i]    \n",
    "    mycolors[i] = (r / 255., g / 255., b / 255.)    "
   ]
  },
  {
   "cell_type": "code",
   "execution_count": null,
   "metadata": {
    "collapsed": true
   },
   "outputs": [],
   "source": [
    "with np.load(os.path.join(OutDir,'SearchResults_v'+str(VERSION)+'.npz')) as X:\n",
    "    OptCyc = X['OptCyc']\n",
    "    OptSS = X['OptSS']\n",
    "\n",
    "# check if the figure directory exists and create it if it doesn't\n",
    "if not os.path.isdir(FIGURE_DIR):\n",
    "    os.makedirs(FIGURE_DIR)\n",
    "\n",
    "with np.load(os.path.join(OutDir,'WelfareGrid_v'+str(VERSION)+'.npz')) as X:\n",
    "    b_grid, tau_grid = X['b_grid'], X['tau_grid']\n",
    "    WelfareCyc, WelfareNoCyc = X['WelfareCyc'], X['WelfareNoCyc']\n",
    "    StSt, StDevs = X['SteadyState'], X['StDevs']\n",
    "\n",
    "def myreshape(x):\n",
    "    return np.reshape(x,b_grid.shape)\n"
   ]
  },
  {
   "cell_type": "code",
   "execution_count": null,
   "metadata": {
    "collapsed": false
   },
   "outputs": [],
   "source": [
    "fig = plt.figure()\n",
    "ax = plt.subplot(111)\n",
    "# ax.spines[\"top\"].set_visible(False)    \n",
    "# ax.spines[\"bottom\"].set_visible(False)    \n",
    "# ax.spines[\"right\"].set_visible(False)    \n",
    "# ax.spines[\"left\"].set_visible(False)\n",
    "\n",
    "# Ensure that the axis ticks only show up on the bottom and left of the plot.    \n",
    "# Ticks on the right and top of the plot are generally unnecessary chartjunk.    \n",
    "ax.get_xaxis().tick_bottom()    \n",
    "ax.get_yaxis().tick_left()  \n",
    "\n",
    "# Make sure your axis ticks are large enough to be easily read.    \n",
    "# You don't want your viewers squinting to read your plot.    \n",
    "plt.xticks(np.linspace(0.75, 0.9, 4), [str(x)  for x in np.linspace(0.75, 0.9, 4)], fontsize=14)    \n",
    "plt.yticks(np.arange(tau_grid.min(), tau_grid.max(),0.02), [str(x)  for x in np.arange(tau_grid.min(), tau_grid.max(),0.02)], fontsize=14)    \n",
    "\n",
    "\n",
    "\n",
    "plt.contourf(b_grid,tau_grid,myreshape(WelfareNoCyc[:,3]),20,cmap = plt.cm.gray)\n",
    "plt.plot(OptSS[0],OptSS[1],'ko')\n",
    "\n",
    "plt.xlabel('b',fontsize =14)\n",
    "plt.ylabel('tau',fontsize =14)\n",
    "\n",
    "fig.savefig(os.path.join(FIGURE_DIR,'OptimalPolicyContoursNoCycles.png'),bbox_inches = 'tight')"
   ]
  },
  {
   "cell_type": "code",
   "execution_count": null,
   "metadata": {
    "collapsed": false
   },
   "outputs": [],
   "source": [
    "fig = plt.figure()\n",
    "ax = plt.subplot(111)\n",
    "# ax.spines[\"top\"].set_visible(False)    \n",
    "# ax.spines[\"bottom\"].set_visible(False)    \n",
    "# ax.spines[\"right\"].set_visible(False)    \n",
    "# ax.spines[\"left\"].set_visible(False)\n",
    "\n",
    "# Ensure that the axis ticks only show up on the bottom and left of the plot.    \n",
    "# Ticks on the right and top of the plot are generally unnecessary chartjunk.    \n",
    "ax.get_xaxis().tick_bottom()    \n",
    "ax.get_yaxis().tick_left()  \n",
    "\n",
    "# Make sure your axis ticks are large enough to be easily read.    \n",
    "# You don't want your viewers squinting to read your plot.    \n",
    "plt.xticks(np.linspace(0.75, 0.9, 4), [str(x)  for x in np.linspace(0.75, 0.9, 4)], fontsize=14)    \n",
    "plt.yticks(np.arange(tau_grid.min(), tau_grid.max(),0.02), [str(x)  for x in np.arange(tau_grid.min(), tau_grid.max(),0.02)], fontsize=14)    \n",
    "\n",
    "\n",
    "plt.contourf(b_grid,tau_grid,myreshape(WelfareCyc[:,3]),20,cmap = plt.cm.gray)\n",
    "plt.plot(OptSS[0],OptSS[1],'ko')\n",
    "plt.plot(OptCyc[0],OptCyc[1],'ro')\n",
    "plt.xlabel('b',fontsize =14)\n",
    "plt.ylabel('tau',fontsize =14)\n",
    "fig.savefig(os.path.join(FIGURE_DIR,'OptimalPolicyContours.png'),bbox_inches = 'tight')"
   ]
  },
  {
   "cell_type": "markdown",
   "metadata": {},
   "source": [
    "We can convert b into pre-tax replacement rates based on a two-worker household.  This conversion involves for solving for x in $$(x/2 + 1/2)^{1-\\tau} = b.$$  \n",
    "Which gives us\n",
    "$$x = 2b^{1/(1-\\tau)} - 1.$$  "
   ]
  },
  {
   "cell_type": "code",
   "execution_count": null,
   "metadata": {
    "collapsed": false
   },
   "outputs": [],
   "source": [
    "def RepRate(b,tau):\n",
    "    return 2 * b **(1.0/(1-tau)) -1\n",
    "\n",
    "print '-----optimal b-----'\n",
    "print 'with cycles = {0:.{1}f}'.format(OptCyc[0],3)\n",
    "print 'without cycles = {0:.{1}f}'.format(OptSS[0],3)\n",
    "print('')\n",
    "\n",
    "print '-----optimal tau----'\n",
    "print 'with cycles = {0:.{1}f}'.format(OptCyc[1],3)\n",
    "print 'without cycles = {0:.{1}f}'.format(OptSS[1],3)\n",
    "print('')\n",
    "\n",
    "print 'pre-tax UI replacement rates with a two-earner household'\n",
    "print 'with cycles = {0:.{1}f}'.format(RepRate(OptCyc[0],OptCyc[1]),2)\n",
    "print 'without cycles = {0:.{1}f}'.format(RepRate(OptSS[0],OptSS[1]),2)\n"
   ]
  },
  {
   "cell_type": "code",
   "execution_count": null,
   "metadata": {
    "collapsed": true
   },
   "outputs": [],
   "source": [
    "def InnerPlot(ax,X,Y,xlabel,xlims,xticks,ylims=None, yticks = None, VertLines = None, title=None, Showxticklables = True):\n",
    "    ax.get_xaxis().tick_bottom()    \n",
    "    ax.get_yaxis().tick_left()  \n",
    "\n",
    "    # Shift the axis labels away from the axis\n",
    "    ax.tick_params(axis='x', pad=8)\n",
    "    ax.tick_params(axis='y', pad=8)\n",
    "\n",
    "    if xticks is None:\n",
    "        plt.xticks(fontsize=14,family='sans-serif')\n",
    "    else:\n",
    "        plt.xticks(xticks, [str(x)  for x in xticks], fontsize=14,family='sans-serif')    \n",
    "\n",
    "    if yticks is None:\n",
    "        plt.yticks(fontsize=14,family='sans-serif')\n",
    "    else:\n",
    "        plt.yticks(yticks, [str(x)  for x in yticks], fontsize=14,family='sans-serif')    \n",
    "\n",
    "    if xlims is not None:\n",
    "        plt.xlim(xlims)\n",
    "\n",
    "    if ylims is not None:\n",
    "        plt.ylim(ylims)\n",
    "\n",
    "\n",
    "    for j in range(len(Y)):\n",
    "        plt.plot(X,Y[j],lw = 2.5, color = mycolors[j])\n",
    "\n",
    "    if title is not None:\n",
    "        plt.title(title,fontsize = 14,family='serif')\n",
    "\n",
    "#         for y in ax.get_yticks():    \n",
    "#             plt.plot(ax.get_xlim(), [y] * 2, \"--\", lw=0.5, color=\"black\", alpha=0.3)   \n",
    "\n",
    "    if xlabel is not None:\n",
    "        plt.xlabel(xlabel,fontsize = 14,family='serif')\n",
    "    if not Showxticklables:\n",
    "        # hide the x tick labels \n",
    "        ax.set_xticklabels('',visible=False)\n",
    "\n",
    "    if VertLines is not None:\n",
    "        ylimsasset = ax.get_ylim()\n",
    "        for v in VertLines:\n",
    "            plt.plot( [v] * 2, ylimsasset, \"--\", lw=0.5, color=\"black\", alpha=0.3)\n",
    "        plt.ylim(ylimsasset)\n",
    "        \n",
    "\n",
    "\n",
    "\n",
    "def Make1Plot(X,Y,xlabel,xlims,xticks,ylims=None, yticks = None, VertLines = None, title = None):\n",
    "    fig = plt.figure(figsize=(5, 3))\n",
    "    ax = plt.subplot(1,1,1)\n",
    "    Showxticklables = True\n",
    "    InnerPlot(ax,X,Y,xlabel,xlims,xticks,ylims, yticks, VertLines, title, Showxticklables)\n",
    "\n",
    "    return fig\n",
    "\n",
    "def Make4Plots(X,Y,xlabel,title=None,xticks = None,xlims = None,\n",
    "               yticks = None,ylims = None,VertLines = None):\n",
    "    \n",
    "    if xticks is None:\n",
    "        xticks = 4*[None,]\n",
    "    if xlims is None:\n",
    "        xlims = 4*[None,]\n",
    "    if yticks is None:\n",
    "        yticks = 4*[None,]\n",
    "    if ylims is None:\n",
    "        ylims = 4*[None,]\n",
    "    if title is None:\n",
    "        title = 4*[None,]\n",
    "\n",
    "        \n",
    "    fig = plt.figure(figsize=(10, 7.5))\n",
    "    plt.subplots_adjust(hspace = 0.2, wspace = 0.4)\n",
    "\n",
    "    for i in range(4):\n",
    "        ax = plt.subplot(2,2,i+1)\n",
    "        if i < 2:\n",
    "            xlabel_arg = None\n",
    "            Showxticklables = False\n",
    "        else:\n",
    "            xlabel_arg = xlabel\n",
    "            Showxticklables = True\n",
    "                \n",
    "        \n",
    "        InnerPlot(ax,X,Y[i],xlabel_arg,xlims[i],xticks[i],ylims[i], yticks[i], VertLines, title[i],Showxticklables)\n",
    "        \n",
    "    return fig"
   ]
  },
  {
   "cell_type": "code",
   "execution_count": null,
   "metadata": {
    "collapsed": true
   },
   "outputs": [],
   "source": [
    "def ConsEquiv(x):\n",
    "    return np.exp((1-beta)*x)-1"
   ]
  },
  {
   "cell_type": "code",
   "execution_count": null,
   "metadata": {
    "collapsed": false
   },
   "outputs": [],
   "source": [
    "select_tau = 3\n",
    "\n",
    "M.Set_b_tau(OptSS[0],tau_grid[select_tau,0])\n",
    "V = M.SteadyState()[[iV_a,iV_b,iV_c,iV]]\n",
    "\n",
    "titles = ['Skill', 'Unemployment', 'Representative agent', 'Total']\n",
    "\n",
    "X = b_grid[select_tau]\n",
    "Y = []\n",
    "for i in range(4):\n",
    "    cyc = ConsEquiv(myreshape(WelfareCyc[:,i])[select_tau] - V[i])\n",
    "    ss = ConsEquiv(myreshape(WelfareNoCyc[:,i])[select_tau] - V[i])\n",
    "    Y.append([cyc,ss])\n",
    "\n",
    "xlabel = r'UI generosity ($b$)'\n",
    "xlims = 4*[(b_grid[select_tau,0],b_grid[select_tau,-1])]  \n",
    "xticks = 4*[np.linspace(0.75, 0.9, 4)]\n",
    "ylims = [(-0.04,0.002), (-0.0005,0.0015), (-0.01,0.001), (-0.04,0.002)]\n",
    "\n",
    "fig = Make4Plots(X,Y,xlabel,titles,xticks,xlims, None, None,(OptSS[0],OptCyc[0]) )\n",
    "\n",
    "print 'tau = {0}'.format(tau_grid[select_tau,0])\n",
    "fig.savefig(os.path.join(FIGURE_DIR,'WelfareGrid_b.png'),bbox_inches = 'tight')"
   ]
  },
  {
   "cell_type": "code",
   "execution_count": null,
   "metadata": {},
   "outputs": [],
   "source": [
    "# Plot Welfare loss of sub-optimal policy\n",
    "fig = plt.figure(figsize=(5, 3))\n",
    "ax = plt.subplot(1,1,1)\n",
    "plt.plot(X,Y[3][0] - np.max(Y[3][0]))\n",
    "plt.xlabel(r'UI generosity ($b$)')\n",
    "fig.savefig(os.path.join(FIGURE_DIR,'WelfareTotal_b.png'),bbox_inches = 'tight')\n",
    "ylimsasset = ax.get_ylim()\n",
    "for v in (OptSS[0],OptCyc[0]):\n",
    "    plt.plot( [v] * 2, ylimsasset, \"--\", lw=0.5, color=\"black\", alpha=0.3)\n",
    "plt.ylim(ylimsasset)"
   ]
  },
  {
   "cell_type": "code",
   "execution_count": null,
   "metadata": {},
   "outputs": [],
   "source": [
    "np.min(Y[3][0])"
   ]
  },
  {
   "cell_type": "code",
   "execution_count": null,
   "metadata": {
    "collapsed": false
   },
   "outputs": [],
   "source": [
    "\n",
    "X = b_grid[select_tau]\n",
    "Y = [myreshape(StSt[:,0])[select_tau]]\n",
    "\n",
    "xlabel = r'UI generosity ($b$)'\n",
    "xlims = (b_grid[select_tau,0],b_grid[select_tau,-1])\n",
    "xticks = np.linspace(0.75, 0.9, 4)\n",
    "\n",
    "ylims = (0.055,0.075)\n",
    "yticks = (0.055,0.06,0.065,0.070,0.075)\n",
    "\n",
    "print 'SteadyState unemployment rate'\n",
    "\n",
    "fig = Make1Plot(X,Y,xlabel,xlims,xticks,ylims=ylims,yticks = yticks,VertLines=(OptSS[0],OptCyc[0]))\n",
    "fig.savefig(os.path.join(FIGURE_DIR,'SteadyState_u_vs_b.png'),bbox_inches = 'tight')\n",
    "\n"
   ]
  },
  {
   "cell_type": "code",
   "execution_count": null,
   "metadata": {
    "collapsed": false
   },
   "outputs": [],
   "source": [
    "titles = ['Log output', 'Unemployment', 'Hours', 'Inflation']\n",
    "indices = [2,0,4,3]\n",
    "\n",
    "\n",
    "X = b_grid[select_tau]\n",
    "Y = []\n",
    "for i in range(4):\n",
    "    m = myreshape(StSt[:,indices[i]])[select_tau]\n",
    "    Y.append([m])\n",
    "\n",
    "xlabel = r'UI generosity ($b$)'\n",
    "xlims = 4*[(b_grid[select_tau,0],b_grid[select_tau,-1])]  \n",
    "xticks = 4*[np.linspace(0.75, 0.9, 4)]\n",
    "\n",
    "ylims = [(-0.25,-0.23), (0.062,0.067), (0.84,0.85), (0.99,1.01)]\n",
    "\n",
    "fig = Make4Plots(X,Y,xlabel,titles,xticks,xlims,None,None,(OptSS[0],OptCyc[0]))\n",
    "print 'SteadyState'\n",
    "fig.savefig(os.path.join(FIGURE_DIR,'SteadyState_b.png'),bbox_inches = 'tight')"
   ]
  },
  {
   "cell_type": "code",
   "execution_count": null,
   "metadata": {
    "collapsed": false
   },
   "outputs": [],
   "source": [
    "titles = ['Log output', 'Unemployment', 'Hours', 'Inflation']\n",
    "indices = [2,0,4,3]\n",
    "\n",
    "\n",
    "X = b_grid[select_tau]\n",
    "Y = []\n",
    "for i in range(4):\n",
    "    m = myreshape(StDevs[:,indices[i]])[select_tau]\n",
    "    Y.append([m])\n",
    "\n",
    "xlabel = r'UI generosity ($b$)'\n",
    "xlims = 4*[(b_grid[select_tau,0],b_grid[select_tau,-1])]  \n",
    "xticks = 4*[np.linspace(0.75, 0.9, 4)]\n",
    "\n",
    "yticks = [(0.022,0.024,0.026,0.028), (0.016,0.018,0.020,0.022,0.024), (0.005,0.006,0.007,0.008,0.009),(0.005,0.006,0.007,0.008,0.009)]\n",
    "ylims = [(z[0],z[-1]) for z in yticks]\n",
    "\n",
    "fig = Make4Plots(X,Y,xlabel,titles,xticks,xlims, None,None,(OptSS[0],OptCyc[0]) )\n",
    "print 'Standard deviations'\n",
    "fig.savefig(os.path.join(FIGURE_DIR,'StandardDeviations_b.png'),bbox_inches = 'tight')\n",
    "\n",
    "figsd = fig\n",
    "\n",
    "fig = Make1Plot(X,Y[0],xlabel,xlims[0],xticks[0],ylims=ylims[0],yticks = yticks[0],VertLines=[OptCyc[0],OptSS[0]])\n",
    "plt.ylabel('Unemployment rate',FontSize=14)\n",
    "fig.savefig(os.path.join(FIGURE_DIR,'StandardDeviation_output_vs_b.png'),bbox_inches = 'tight')\n",
    "\n"
   ]
  },
  {
   "cell_type": "code",
   "execution_count": null,
   "metadata": {},
   "outputs": [],
   "source": [
    "# plot of Std M\n",
    "X = b_grid[select_tau]\n",
    "Y = myreshape(StDevs[:,5])[select_tau]\n",
    "Y = Y/interp1d(X,Y)(OptCyc[0])\n",
    "# Make1Plot(X,Y,xlabel,xlims,xticks,ylims=None, yticks = None, VertLines = None, title = None)\n",
    "fig = Make1Plot(X,[Y,],xlabel,xlims[0],xticks[0],yticks = None,VertLines=[OptCyc[0],OptSS[0]])\n",
    "plt.ylabel('Ratio of st. deviations',fontsize =14)\n",
    "fig.savefig(os.path.join(FIGURE_DIR,'StandardDeviation_M_vs_b.png'),bbox_inches = 'tight')"
   ]
  },
  {
   "cell_type": "code",
   "execution_count": null,
   "metadata": {
    "collapsed": false
   },
   "outputs": [],
   "source": [
    "select_b = 4 \n",
    "titles = ['Skill', 'Unemployment', 'Representative agent', 'Total']\n",
    "\n",
    "M.Set_b_tau(b_grid[0,select_b],OptSS[1])\n",
    "V = M.SteadyState()[[iV_a,iV_b,iV_c,iV]]\n",
    "\n",
    "X = tau_grid[:,select_b]\n",
    "Y = []\n",
    "for i in range(4):\n",
    "    cyc = ConsEquiv(myreshape(WelfareCyc[:,i])[:,select_b]-V[i])\n",
    "    ss = ConsEquiv(myreshape(WelfareNoCyc[:,i])[:,select_b]-V[i])\n",
    "    Y.append([cyc,ss])\n",
    "\n",
    "xlabel = r'Tax progressivity ($\\tau$)'\n",
    "xlims = 4*[(tau_grid[0,0],tau_grid[-1,0])]  \n",
    "xticks = 4*[np.arange(tau_grid.min(), tau_grid.max(), 0.03)]\n",
    "\n",
    "fig = Make4Plots(X,Y,xlabel,titles,xticks,xlims, None, None , (OptSS[1],OptCyc[1]) )\n",
    "print 'b = {0}'.format(b_grid[0,select_b])\n",
    "fig.savefig(os.path.join(FIGURE_DIR,'WelfareGrid_tau.png'),bbox_inches = 'tight')\n",
    "\n"
   ]
  },
  {
   "cell_type": "code",
   "execution_count": null,
   "metadata": {},
   "outputs": [],
   "source": [
    "# Plot Welfare loss of sub-optimal policy\n",
    "fig = plt.figure(figsize=(5, 3))\n",
    "ax = plt.subplot(1,1,1)\n",
    "plt.plot(X,Y[3][0] - np.max(Y[3][0]))\n",
    "plt.xlabel(r'Tax progressivity ($\\tau$)')\n",
    "fig.savefig(os.path.join(FIGURE_DIR,'WelfareTotal_tau.png'),bbox_inches = 'tight')\n",
    "ylimsasset = ax.get_ylim()\n",
    "for v in (OptSS[1],OptCyc[1]):\n",
    "    plt.plot( [v] * 2, ylimsasset, \"--\", lw=0.5, color=\"black\", alpha=0.3)\n",
    "plt.ylim(ylimsasset)"
   ]
  },
  {
   "cell_type": "code",
   "execution_count": null,
   "metadata": {
    "collapsed": false
   },
   "outputs": [],
   "source": [
    "titles = ['Log output', 'Unemployment', 'Hours', 'Inflation']\n",
    "indices = [2,0,4,3]\n",
    "\n",
    "\n",
    "\n",
    "X = tau_grid[:,select_b]\n",
    "Y = []\n",
    "for i in range(4):\n",
    "    m = myreshape(StSt[:,indices[i]])[:,select_b]\n",
    "    Y.append([m])\n",
    "\n",
    "xlabel = r'Tax progressivity ($\\tau$)'\n",
    "\n",
    "xlims = 4*[(tau_grid[0,0],tau_grid[-1,0])]  \n",
    "xticks = 4*[np.arange(tau_grid.min(), tau_grid.max(), 0.02)]\n",
    "\n",
    "yticks = [np.arange(-0.27,-0.21+0.001,0.02), np.arange(0.063,0.0691,0.002), np.arange(0.8,0.9001,0.02),np.arange(0.98,1.03,0.01)]\n",
    "ylims = [(-0.31,-0.23), (0.0615,0.0635), (0.78,0.86), (0.98,1.02)]\n",
    "\n",
    "\n",
    "fig = Make4Plots(X,Y,xlabel,titles,xticks,xlims, None,None,(OptSS[1],OptCyc[1]))\n",
    "\n",
    "print 'SteadyState'\n",
    "fig.savefig(os.path.join(FIGURE_DIR,'SteadyState_tau.png'),bbox_inches = 'tight')\n",
    "\n",
    "\n",
    "M.Set_b_tau(b_grid[0,select_b],OptSS[1])\n",
    "Ystst = M.SteadyState()[[iY]]\n",
    "\n",
    "fig = Make1Plot(X,Y[0]-np.log(Ystst),xlabel,xlims[0],xticks[0])\n",
    "fig.savefig(os.path.join(FIGURE_DIR,'SteadyState_output_vs_tau.png'),bbox_inches = 'tight')\n",
    "\n"
   ]
  },
  {
   "cell_type": "code",
   "execution_count": null,
   "metadata": {
    "collapsed": false
   },
   "outputs": [],
   "source": [
    "titles = ['Log output', 'Unemployment', 'Hours', 'Inflation']\n",
    "indices = [2,0,4,3]\n",
    "\n",
    "\n",
    "\n",
    "X = tau_grid[:,select_b]\n",
    "Y = []\n",
    "for i in range(4):\n",
    "    m = myreshape(StDevs[:,indices[i]])[:,select_b]\n",
    "    Y.append([m])\n",
    "\n",
    "xlabel = r'Tax progressivity ($\\tau$)'\n",
    "\n",
    "xlims = 4*[(tau_grid[0,0],tau_grid[-1,0])]  \n",
    "xticks = 4*[np.arange(tau_grid.min(), tau_grid.max(), 0.02)]\n",
    "\n",
    "#ylims = [(0.01379,0.0139), (0.0111,0.0113), (0.0054,0.0059), (0.00548,0.0055)]\n",
    "#yticks = [(0.014,0.016,0.018), (0.01,0.012,0.014,0.016), (0.005,0.006,0.007,0.008),(0.005,0.006,0.007,0.008)]\n",
    "\n",
    "ylims = []\n",
    "yticks = []\n",
    "for i in range(4):\n",
    "    ylims.append(figsd.axes[i].get_ylim())\n",
    "    yticks.append(figsd.axes[i].get_yticks())\n",
    "\n",
    "fig = Make4Plots(X,Y,xlabel,titles,xticks,xlims, yticks,ylims,(OptSS[1],OptCyc[1]))\n",
    "print 'Standard deviations'\n",
    "fig.savefig(os.path.join(FIGURE_DIR,'StandardDeviations_tau.png'),bbox_inches = 'tight')\n",
    "\n",
    "\n",
    "\n",
    "fig = Make1Plot(X,Y[0],xlabel,xlims[0],xticks[0], ylims[0], yticks[0])\n",
    "fig.savefig(os.path.join(FIGURE_DIR,'StandardDeviation_output_vs_tau.png'),bbox_inches = 'tight')\n",
    "\n"
   ]
  },
  {
   "cell_type": "code",
   "execution_count": null,
   "metadata": {
    "collapsed": true
   },
   "outputs": [],
   "source": [
    "# plot of Std M\n",
    "X = tau_grid[:,select_b]\n",
    "Y = myreshape(StDevs[:,5])[:,select_b]\n",
    "Y = Y/Y[-1]\n",
    "fig = Make1Plot(X,[Y,],xlabel,xlims[0],xticks[0])"
   ]
  },
  {
   "cell_type": "code",
   "execution_count": null,
   "metadata": {},
   "outputs": [],
   "source": [
    "X = tau_grid[:,select_b]\n",
    "Y = myreshape(StDevs[:,0])[:,select_b]\n",
    "YSS = myreshape(StSt[:,0])[:,select_b]\n",
    "Y = (1.0-Y)/(1.0-YSS)\n",
    "fig = Make1Plot(X,[Y,],xlabel,xlims[0],xticks[0])"
   ]
  },
  {
   "cell_type": "code",
   "execution_count": null,
   "metadata": {},
   "outputs": [],
   "source": [
    "select_b = 1 \n",
    "print 'b = {0}'.format(b_grid[0,select_b])"
   ]
  },
  {
   "cell_type": "code",
   "execution_count": null,
   "metadata": {},
   "outputs": [],
   "source": [
    "titles = ['Skill', 'Unemployment', 'Representative agent', 'Total']\n",
    "\n",
    "M.Set_b_tau(b_grid[0,select_b],OptSS[1])\n",
    "V = M.SteadyState()[[iV_a,iV_b,iV_c,iV]]\n",
    "\n",
    "X = tau_grid[:,select_b]\n",
    "Y = []\n",
    "i = 0\n",
    "Y.append([ConsEquiv(myreshape(WelfareCyc[:,i])[:,1]-V[i]),ConsEquiv(myreshape(WelfareCyc[:,i])[:,4]-V[i]),\n",
    "             ConsEquiv(myreshape(WelfareNoCyc[:,i])[:,1]-V[i]),ConsEquiv(myreshape(WelfareNoCyc[:,i])[:,4]-V[i])])\n",
    "plt.plot(X,np.array(Y).T.squeeze())\n",
    "plt.legend(['Cyc 75', 'Cyc 81', 'SS 75', 'SS 81'])"
   ]
  },
  {
   "cell_type": "code",
   "execution_count": null,
   "metadata": {},
   "outputs": [],
   "source": []
  }
 ],
 "metadata": {
  "kernelspec": {
   "display_name": "Python 2",
   "language": "python",
   "name": "python2"
  },
  "language_info": {
   "codemirror_mode": {
    "name": "ipython",
    "version": 2
   },
   "file_extension": ".py",
   "mimetype": "text/x-python",
   "name": "python",
   "nbconvert_exporter": "python",
   "pygments_lexer": "ipython2",
   "version": "2.7.18"
  }
 },
 "nbformat": 4,
 "nbformat_minor": 2
}
