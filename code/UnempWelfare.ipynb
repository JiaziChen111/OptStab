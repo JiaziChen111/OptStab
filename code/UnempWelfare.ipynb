{
 "cells": [
  {
   "cell_type": "code",
   "execution_count": null,
   "metadata": {
    "collapsed": true
   },
   "outputs": [],
   "source": [
    "import numpy as np\n",
    "import matplotlib.pyplot as plt\n",
    "%matplotlib inline"
   ]
  },
  {
   "cell_type": "code",
   "execution_count": null,
   "metadata": {
    "collapsed": true
   },
   "outputs": [],
   "source": [
    "ubar = 0.061\n",
    "stdu = 0.016\n",
    "\n",
    "N = 10000"
   ]
  },
  {
   "cell_type": "code",
   "execution_count": null,
   "metadata": {
    "collapsed": false
   },
   "outputs": [],
   "source": [
    "u = ubar + stdu*np.random.randn(N)\n"
   ]
  },
  {
   "cell_type": "code",
   "execution_count": null,
   "metadata": {
    "collapsed": false
   },
   "outputs": [],
   "source": [
    "W = []\n",
    "Wss = []\n",
    "bgrid = np.arange(0.73,0.86,0.01)\n",
    "for b in bgrid:\n",
    "    W.append( (u*np.log(b)-np.log(1-u+u*b)).mean())\n",
    "    Wss.append(ubar*np.log(b)-np.log(1-ubar+ubar*b))\n",
    "    \n",
    "W = np.array(W)\n",
    "W = np.exp(W-W[2])-1\n",
    "\n",
    "Wss = np.array(Wss)\n",
    "Wss = np.exp(Wss-Wss[2])-1"
   ]
  },
  {
   "cell_type": "code",
   "execution_count": null,
   "metadata": {
    "collapsed": false
   },
   "outputs": [],
   "source": [
    "plt.plot(bgrid,W)\n",
    "plt.plot(bgrid,Wss)"
   ]
  },
  {
   "cell_type": "code",
   "execution_count": null,
   "metadata": {
    "collapsed": false
   },
   "outputs": [],
   "source": [
    "b = 0.8\n",
    "\n",
    "umin = 0.04\n",
    "umax = 0.10\n",
    "ugrid = np.linspace(umin,umax,100)\n",
    "\n",
    "W = []\n",
    "for u1 in ugrid:\n",
    "    W.append( (u1*np.log(b)-np.log(1-u1+u1*b)))\n",
    "\n",
    "plt.plot(ugrid,W)     \n",
    "plt.xlabel('unemployment')\n",
    "plt.ylabel('welfare loss from unemployment')\n",
    "plt.text(0.08,W[10],'b = {0}'.format(b))"
   ]
  },
  {
   "cell_type": "code",
   "execution_count": null,
   "metadata": {
    "collapsed": true
   },
   "outputs": [],
   "source": []
  }
 ],
 "metadata": {
  "kernelspec": {
   "display_name": "Python 2",
   "language": "python",
   "name": "python2"
  },
  "language_info": {
   "codemirror_mode": {
    "name": "ipython",
    "version": 2
   },
   "file_extension": ".py",
   "mimetype": "text/x-python",
   "name": "python",
   "nbconvert_exporter": "python",
   "pygments_lexer": "ipython2",
   "version": "2.7.7"
  }
 },
 "nbformat": 4,
 "nbformat_minor": 0
}
